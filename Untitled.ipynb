{
 "cells": [
  {
   "cell_type": "code",
   "execution_count": 6,
   "id": "9891458e",
   "metadata": {},
   "outputs": [],
   "source": [
    "import requests\n",
    "from bs4 import BeautifulSoup\n",
    "from fake_useragent import UserAgent\n",
    "import pandas as pd\n",
    "import xlsxwriter"
   ]
  },
  {
   "cell_type": "code",
   "execution_count": 9,
   "id": "b1225a09",
   "metadata": {},
   "outputs": [],
   "source": [
    "# Создание рандомного фейкового юзер-агента \n",
    "user = UserAgent().random\n",
    "header = {'user-agent': user}"
   ]
  },
  {
   "cell_type": "code",
   "execution_count": 21,
   "id": "9a3058a8",
   "metadata": {},
   "outputs": [],
   "source": [
    "# Исходные данные по поликлиникам\n",
    "hospitals = ['Медорганизация: СПб ГБУЗ \"Детская городская поликлиника №49\" Детское поликлиническое отделение \"София\"',\n",
    "            'Медорганизация: СПб ГБУЗ \"Детская городская поликлиника №49\" Детское поликлиническое отделение \"Павловск\"',\n",
    "            'Медорганизация: СПб ГБУЗ \"Детская городская поликлиника №49\" Детское поликлиническое отделение \"Шушары\"',\n",
    "            'Медорганизация: СПб ГБУЗ \"Детская городская поликлиника №49\" Детское поликлиническое отделение \"Славянка\"',\n",
    "            'Медорганизация: СПб ГБУЗ \"Детская городская поликлиника №49\" Отделение врачей специалистов',\n",
    "            'Медорганизация: СПб ГБУЗ \"Детская городская поликлиника №49\" Отделение медицинской реабилитации и абилитации',\n",
    "            'Медорганизация: СПб ГБУЗ \"Детская городская поликлиника №49\" Педиатрическое отделение №2',\n",
    "            'Медорганизация: СПб ГБУЗ \"Детская городская поликлиника №49\" Педиатрическое отделение №1',\n",
    "            'Медорганизация: СПб ГБУЗ \"Детская городская поликлиника №49\" Педиатрическое отделение №3']\n",
    "\n",
    "urls = ['https://www.gorzdrav.spb.ru/service-free-schedule#%5B%7B%22district%22:%2216%22%7D,%7B%22lpu%22:%22305%22%7D%5D',\n",
    "      'https://www.gorzdrav.spb.ru/service-free-schedule#%5B%7B%22district%22:%2216%22%7D,%7B%22lpu%22:%22606%22%7D%5D',\n",
    "      'https://www.gorzdrav.spb.ru/service-free-schedule#%5B%7B%22district%22:%2216%22%7D,%7B%22lpu%22:%22608%22%7D%5D',\n",
    "      'https://www.gorzdrav.spb.ru/service-free-schedule#%5B%7B%22district%22:%2216%22%7D,%7B%22lpu%22:%22609%22%7D%5D',\n",
    "      'https://www.gorzdrav.spb.ru/service-free-schedule#%5B%7B%22district%22:%2216%22%7D,%7B%22lpu%22:%22610%22%7D%5D',\n",
    "      'https://www.gorzdrav.spb.ru/service-free-schedule#%5B%7B%22district%22:%2216%22%7D,%7B%22lpu%22:%221133%22%7D%5D',\n",
    "      'https://www.gorzdrav.spb.ru/service-free-schedule#%5B%7B%22district%22:%2216%22%7D,%7B%22lpu%22:%221147%22%7D%5D',\n",
    "      'https://www.gorzdrav.spb.ru/service-free-schedule#%5B%7B%22district%22:%2216%22%7D,%7B%22lpu%22:%221148%22%7D%5D',\n",
    "      'https://www.gorzdrav.spb.ru/service-free-schedule#%5B%7B%22district%22:%2216%22%7D,%7B%22lpu%22:%221155%22%7D%5D']"
   ]
  },
  {
   "cell_type": "code",
   "execution_count": 36,
   "id": "3d63cc63",
   "metadata": {},
   "outputs": [
    {
     "ename": "KeyboardInterrupt",
     "evalue": "",
     "output_type": "error",
     "traceback": [
      "\u001b[1;31m---------------------------------------------------------------------------\u001b[0m",
      "\u001b[1;31mKeyboardInterrupt\u001b[0m                         Traceback (most recent call last)",
      "\u001b[1;32m~\\AppData\\Local\\Temp\\ipykernel_292\\280467636.py\u001b[0m in \u001b[0;36m<module>\u001b[1;34m\u001b[0m\n\u001b[0;32m      2\u001b[0m \u001b[0mnumber\u001b[0m \u001b[1;33m=\u001b[0m \u001b[1;36m0\u001b[0m\u001b[1;33m\u001b[0m\u001b[1;33m\u001b[0m\u001b[0m\n\u001b[0;32m      3\u001b[0m \u001b[1;32mwhile\u001b[0m \u001b[0mnumber\u001b[0m \u001b[1;33m<\u001b[0m \u001b[1;36m9\u001b[0m\u001b[1;33m:\u001b[0m\u001b[1;33m\u001b[0m\u001b[1;33m\u001b[0m\u001b[0m\n\u001b[1;32m----> 4\u001b[1;33m     \u001b[0mresponce\u001b[0m \u001b[1;33m=\u001b[0m \u001b[0mrequests\u001b[0m\u001b[1;33m\u001b[0m\u001b[1;33m\u001b[0m\u001b[0m\n\u001b[0m\u001b[0;32m      5\u001b[0m '''\n\u001b[0;32m      6\u001b[0m \u001b[1;32mfor\u001b[0m \u001b[0murl\u001b[0m \u001b[1;32min\u001b[0m \u001b[0murls\u001b[0m\u001b[1;33m:\u001b[0m\u001b[1;33m\u001b[0m\u001b[1;33m\u001b[0m\u001b[0m\n",
      "\u001b[1;31mKeyboardInterrupt\u001b[0m: "
     ]
    }
   ],
   "source": [
    "# Поочередный запрос к страницам сайта\n",
    "number = 0\n",
    "while number < 9:\n",
    "    responce = requests\n",
    "'''\n",
    "for url in urls:\n",
    "    responce = requests.get(url, headers = header)\n",
    "    if responce.ok == True: #Проверка статуса ответа сервера и начало сбора инф-ции\n",
    "        \n",
    "        print('OK')\n",
    "        # Получение текста страницы и выделение тегов\n",
    "        #soup = BeautifulSoup(responce.text, 'lxml')\n",
    "        '''\n"
   ]
  },
  {
   "cell_type": "code",
   "execution_count": null,
   "id": "ec58e0a8",
   "metadata": {},
   "outputs": [],
   "source": []
  }
 ],
 "metadata": {
  "kernelspec": {
   "display_name": "Python 3 (ipykernel)",
   "language": "python",
   "name": "python3"
  },
  "language_info": {
   "codemirror_mode": {
    "name": "ipython",
    "version": 3
   },
   "file_extension": ".py",
   "mimetype": "text/x-python",
   "name": "python",
   "nbconvert_exporter": "python",
   "pygments_lexer": "ipython3",
   "version": "3.9.13"
  }
 },
 "nbformat": 4,
 "nbformat_minor": 5
}
